{
 "cells": [
  {
   "cell_type": "markdown",
   "metadata": {},
   "source": [
    "# Lab 14: Random numbers and Monte Carlo integration\n",
    "\n",
    "In this lab, we will look at integration using so-called *Monte Carlo* methods, which rely on random (or *pseudorandom*) numbers. In the process, we’ll discover more about how to generate these numbers and what else they can be used for."
   ]
  },
  {
   "cell_type": "markdown",
   "metadata": {},
   "source": [
    "## Pseudorandom numbers\n",
    "\n",
    "Recall that a simple pseudorandom number generator follows the formula: $r_{i+1} = (ar_i + c) \\mod M$, with $a$, $c$, and $M$ specified. This gives integers between 0 and $M-1$, so we divide by $M$ to get floating-point numbers in the range $[0,1)$. In Python, the modulo (“remainder”) operator is `%`.\n",
    "\n",
    "We’ll start by using the values $M = 2^8$, $c = 1$, $a = 57$, and begin iterating with $r_0 = 10$.\n",
    "\n",
    "**Determine the period of this generator:** that is, how many values does it generate before returning to the starting point $r = 10$?"
   ]
  },
  {
   "cell_type": "code",
   "execution_count": null,
   "metadata": {},
   "outputs": [],
   "source": []
  },
  {
   "cell_type": "markdown",
   "metadata": {},
   "source": [
    "**Plot the values in pairs:** that is, $(r_0, r_1)$, $(r_2, r_3)$, and so forth. Explain why this may not be a suitable random number generator for serious use."
   ]
  },
  {
   "cell_type": "code",
   "execution_count": null,
   "metadata": {},
   "outputs": [],
   "source": []
  },
  {
   "cell_type": "markdown",
   "metadata": {},
   "source": [
    "**Make another version of the plot** this time using the more realistic values $M = 2^{48}$, $c = 11$, $a = 25 214 903 917$."
   ]
  },
  {
   "cell_type": "code",
   "execution_count": null,
   "metadata": {},
   "outputs": [],
   "source": []
  },
  {
   "cell_type": "markdown",
   "metadata": {},
   "source": [
    "▶ **CHECKPOINT 1**"
   ]
  },
  {
   "cell_type": "markdown",
   "metadata": {},
   "source": [
    "## Interlude: more on `array`s\n",
    "\n",
    "In practice, it’s almost always best to use pseudorandom number generators written by experts. Our pseudorandom numbers will be generated using the `scipy.random` module, which returns these numbers as `array`s. We’ll need two useful methods of this data type.\n",
    "\n",
    "First, the `reshape` method changes the shape of an array, while keeping the individual elements and their order:"
   ]
  },
  {
   "cell_type": "code",
   "execution_count": 4,
   "metadata": {},
   "outputs": [
    {
     "name": "stdout",
     "output_type": "stream",
     "text": [
      "[[1 2]\n",
      " [3 4]\n",
      " [5 6]]\n"
     ]
    }
   ],
   "source": [
    "from numpy import array\n",
    "x = array([1,2,3,4,5,6])\n",
    "y = x.reshape(3,2)\n",
    "print(y)"
   ]
  },
  {
   "cell_type": "markdown",
   "metadata": {},
   "source": [
    "A very useful feature is that you can make one argument equal to -1; then that dimension will simply be whatever size is necessary to accommodate the rest of the array. For instance, here we say that we want two columns and however many rows are needed:"
   ]
  },
  {
   "cell_type": "code",
   "execution_count": 5,
   "metadata": {},
   "outputs": [
    {
     "name": "stdout",
     "output_type": "stream",
     "text": [
      "[[1 2]\n",
      " [3 4]\n",
      " [5 6]]\n"
     ]
    }
   ],
   "source": [
    "x = array([1,2,3,4,5,6])\n",
    "y = x.reshape(-1,2)\n",
    "print(y)"
   ]
  },
  {
   "cell_type": "markdown",
   "metadata": {},
   "source": [
    "Second, the `sum` method by default adds up every number in an array, but can be restricted to do so along a particular axis:"
   ]
  },
  {
   "cell_type": "code",
   "execution_count": 6,
   "metadata": {},
   "outputs": [
    {
     "name": "stdout",
     "output_type": "stream",
     "text": [
      "Sum all:\n",
      "21\n",
      "Sum along columns:\n",
      "[ 9 12]\n",
      "Sum along rows:\n",
      "[ 3  7 11]\n"
     ]
    }
   ],
   "source": [
    "print(\"Sum all:\")\n",
    "print(y.sum())\n",
    "\n",
    "print(\"Sum along columns:\")\n",
    "print(y.sum(axis=0))\n",
    "\n",
    "print(\"Sum along rows:\")\n",
    "print(y.sum(axis=1))"
   ]
  },
  {
   "cell_type": "markdown",
   "metadata": {},
   "source": [
    "## Monte Carlo integration\n",
    "\n",
    "We’ll start by evaluating a very simple integral, to which we know the answer:\n",
    "$$\n",
    "\\int_0^1x^2\\,\\mathrm dx  = \\tfrac13.\n",
    "$$\n",
    "\n",
    "Recall that the way to do this by the Monte Carlo method is to take random points inside the integration boundaries, here $0\\leq x \\leq 1$. We then take the average of the function to be integrated, evaluated at each of these points.\n",
    "\n",
    "**Import the `random` module:**"
   ]
  },
  {
   "cell_type": "code",
   "execution_count": 7,
   "metadata": {},
   "outputs": [],
   "source": [
    "from scipy import random"
   ]
  },
  {
   "cell_type": "markdown",
   "metadata": {},
   "source": [
    "Use the `random.random()` function to **generate 100 numbers between 0 and 1**. *Hint:* you will need to use the `size` argument; consult the documentation if necessary to see how this works."
   ]
  },
  {
   "cell_type": "code",
   "execution_count": null,
   "metadata": {},
   "outputs": [],
   "source": []
  },
  {
   "cell_type": "markdown",
   "metadata": {},
   "source": [
    "Since we are integrating $x^2$, **square these numbers**. Then **calculate the average**. How close is your answer to the expected value?"
   ]
  },
  {
   "cell_type": "code",
   "execution_count": null,
   "metadata": {},
   "outputs": [],
   "source": []
  },
  {
   "cell_type": "markdown",
   "metadata": {},
   "source": [
    "▶ **CHECKPOINT 2**"
   ]
  },
  {
   "cell_type": "markdown",
   "metadata": {},
   "source": [
    "The following 21-dimensional integral looks forbidding, but it can be tackled in exactly the same way:\n",
    "$$\n",
    "\\int_0^1\\cdots\\int_0^1\\big(x_1 + x_2 + x_3 + \\cdots + x_{21}\\big)^2\\,\\mathrm dx_1 \\dots \\mathrm dx_{21}.\n",
    "$$\n",
    "Its value turns out to be exactly equal to 112 (this is not such a difficult thing to prove if you would like to have a go!). \n",
    "\n",
    "Here the integration boundaries are a hypercube where $x_1$, $x_2$, etc. all take values between 0 and 1. We need to take the average of the function to be integrated, $(x_1 + x_2 + x_3 + \\cdots + x_{21})^2$, evaluated at each of these points."
   ]
  },
  {
   "cell_type": "markdown",
   "metadata": {},
   "source": [
    "Use the `random.random()` function to **generate 210 numbers between 0 and 1**. \n",
    "\n",
    "Use `reshape` to **change this into an array with 21 columns** (and therefore ten rows), which we will interpret as a set of ten points in 21-dimensional space.\n",
    "\n",
    "Use `sum` to **calculate $(x_1 + x_2 + x_3 + \\cdots + x_{21})^2$ at each point**: your result should be an array of 10 values, one for each point.\n",
    "\n",
    "**Calculate the average of this array**, which is our Monte Carlo estimate of the integral."
   ]
  },
  {
   "cell_type": "code",
   "execution_count": 9,
   "metadata": {},
   "outputs": [
    {
     "data": {
      "text/plain": [
       "110.42069583886523"
      ]
     },
     "execution_count": 9,
     "metadata": {},
     "output_type": "execute_result"
    }
   ],
   "source": []
  },
  {
   "cell_type": "markdown",
   "metadata": {},
   "source": [
    "**Repeat your calculation** with more data points. **Plot the relative error in the integral** as a function of the number of data points, on a log-log scale. Are your results consistent with the theoretical result that the error should scale with $1/\\sqrt{N}$? "
   ]
  },
  {
   "cell_type": "code",
   "execution_count": null,
   "metadata": {},
   "outputs": [],
   "source": []
  },
  {
   "cell_type": "markdown",
   "metadata": {},
   "source": [
    "**Evaluate the error** of a calculation with $N=21\\times10^5$. If you tried to do a trapezoid rule calculation with approximately the same number of points, where would you end up evaluating the function? Can you see why the Monte Carlo method will almost certainly give a better result?"
   ]
  },
  {
   "cell_type": "code",
   "execution_count": null,
   "metadata": {},
   "outputs": [],
   "source": []
  },
  {
   "cell_type": "markdown",
   "metadata": {},
   "source": [
    "(*Extension:* actually evaluate the trapezoid-rule value. You might want to talk to a demonstrator about how to generate the required points; I used the `product` function from the `itertools` module.)"
   ]
  },
  {
   "cell_type": "code",
   "execution_count": null,
   "metadata": {},
   "outputs": [],
   "source": []
  },
  {
   "cell_type": "markdown",
   "metadata": {},
   "source": [
    "▶ **CHECKPOINT 3**"
   ]
  }
 ],
 "metadata": {
  "kernelspec": {
   "display_name": "Python 3",
   "language": "python",
   "name": "python3"
  },
  "language_info": {
   "codemirror_mode": {
    "name": "ipython",
    "version": 3
   },
   "file_extension": ".py",
   "mimetype": "text/x-python",
   "name": "python",
   "nbconvert_exporter": "python",
   "pygments_lexer": "ipython3",
   "version": "3.6.3"
  }
 },
 "nbformat": 4,
 "nbformat_minor": 2
}
