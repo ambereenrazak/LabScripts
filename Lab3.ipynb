{
 "cells": [
  {
   "cell_type": "markdown",
   "metadata": {},
   "source": [
    "# Lab 3: Numerical errors\n",
    "\n",
    "In this lab we will investigate some of the practical implications of the way numbers are stored in computers. In particular, we will look at problems that can arise for the unwary when using floating-point numbers.\n",
    "\n",
    "We will check our answers against the \"official results\" from `sys.float_info` – so before getting any further, let's import this:"
   ]
  },
  {
   "cell_type": "code",
   "execution_count": 3,
   "metadata": {
    "collapsed": true
   },
   "outputs": [],
   "source": [
    "from sys import float_info"
   ]
  },
  {
   "cell_type": "markdown",
   "metadata": {},
   "source": [
    "## Machine precision\n",
    "\n",
    "**Write a program to find the approximate machine precision** – that is, the largest number $\\epsilon$ such that $1 + \\epsilon = 1$ within the precision of the calculation.\n",
    "\n",
    "An appropriate algorithm would be\n",
    "\n",
    "    Set epsilon to 0.1\n",
    "    Loop until 1 + epsilon is equal to 1:\n",
    "        Set epsilon to half its current value"
   ]
  },
  {
   "cell_type": "code",
   "execution_count": 4,
   "metadata": {
    "collapsed": false
   },
   "outputs": [
    {
     "name": "stdout",
     "output_type": "stream",
     "text": [
      "8.881784197001253e-17\n"
     ]
    }
   ],
   "source": [
    "ϵ=0.1\n",
    "\n",
    "while ϵ+1!=1:\n",
    "    ϵ=0.5*ϵ\n",
    "    \n",
    "print(ϵ)"
   ]
  },
  {
   "cell_type": "markdown",
   "metadata": {},
   "source": [
    "Let's check this against what we know about how numbers are stored in computers. `float_info.mant_dig` will tell you how many bits (i.e., binary digits) are available to store the significand:"
   ]
  },
  {
   "cell_type": "code",
   "execution_count": 5,
   "metadata": {
    "collapsed": false
   },
   "outputs": [
    {
     "data": {
      "text/plain": [
       "53"
      ]
     },
     "execution_count": 5,
     "metadata": {},
     "output_type": "execute_result"
    }
   ],
   "source": [
    "float_info.mant_dig"
   ]
  },
  {
   "cell_type": "markdown",
   "metadata": {},
   "source": [
    "Can you use this information to calculate the theoretical epsilon? You shouldn't expect to match exactly with the results of your test program (can you see why?) but you should have the correct order of magnitude."
   ]
  },
  {
   "cell_type": "code",
   "execution_count": 6,
   "metadata": {
    "collapsed": false
   },
   "outputs": [
    {
     "data": {
      "text/plain": [
       "2.220446049250313e-16"
      ]
     },
     "execution_count": 6,
     "metadata": {},
     "output_type": "execute_result"
    }
   ],
   "source": [
    "2**-52"
   ]
  },
  {
   "cell_type": "markdown",
   "metadata": {},
   "source": [
    "Check your answer against `float_info.epsilon`. This should match your theoretical value exactly."
   ]
  },
  {
   "cell_type": "code",
   "execution_count": 7,
   "metadata": {
    "collapsed": false
   },
   "outputs": [
    {
     "data": {
      "text/plain": [
       "2.220446049250313e-16"
      ]
     },
     "execution_count": 7,
     "metadata": {},
     "output_type": "execute_result"
    }
   ],
   "source": [
    "float_info.epsilon"
   ]
  },
  {
   "cell_type": "markdown",
   "metadata": {},
   "source": [
    "## Overflow and underflow\n",
    "\n",
    "**Write a program to find the maximum and minimum positive numbers representable as a Python `float`.**\n",
    "\n",
    "You can use a very similar algorithm, but this time you will need to test whether the number is equal to $\\infty$, which you can represent as `float('inf')`, or zero."
   ]
  },
  {
   "cell_type": "code",
   "execution_count": null,
   "metadata": {
    "collapsed": false
   },
   "outputs": [
    {
     "name": "stdout",
     "output_type": "stream",
     "text": [
      "8.98846567431158e+307\n"
     ]
    }
   ],
   "source": [
    "n=1.\n",
    "\n",
    "infinity=float('+inf')\n",
    "while n!=infinity:\n",
    "    old=n\n",
    "    n=n*2\n",
    "print(old)\n",
    "\n",
    "\n",
    "while n!=0:\n",
    "    old2=n\n",
    "    n=n/2\n",
    "print(old2)\n",
    "\n",
    "\n",
    "\n",
    "\n",
    "#Max=x[-1]\n",
    "#Last_Max=[]\n",
    "#while Max!=infinity:\n",
    "    #Max=Max+(x[-16])\n",
    "    #Last_Max.append(Max)\n",
    "    \n",
    "#print(Last_Max[-2])\n"
   ]
  },
  {
   "cell_type": "code",
   "execution_count": null,
   "metadata": {
    "collapsed": true
   },
   "outputs": [],
   "source": [
    "n=1.\n",
    "while n!=0:\n",
    "    old2=n\n",
    "    n=n/2\n",
    "print(old2)"
   ]
  },
  {
   "cell_type": "code",
   "execution_count": null,
   "metadata": {
    "collapsed": false
   },
   "outputs": [],
   "source": [
    "n=1\n",
    "x=[]\n",
    "while n>0:\n",
    "    x.append(n)\n",
    "    n=n*2\n",
    "Min=x[-1]\n",
    "Last_Min=[]\n",
    "\n",
    "while Min>0:\n",
    "    Min=Min+(x[-16])\n",
    "    Last_Min.append(Min)\n",
    "print(Last_Min[-2])"
   ]
  },
  {
   "cell_type": "markdown",
   "metadata": {},
   "source": [
    "**Check your answers** against the \"official\" numbers from the following code:"
   ]
  },
  {
   "cell_type": "code",
   "execution_count": null,
   "metadata": {
    "collapsed": false
   },
   "outputs": [],
   "source": [
    "float_info.min, float_info.max"
   ]
  },
  {
   "cell_type": "markdown",
   "metadata": {},
   "source": [
    "You will notice something odd: while the greatest possible number should match your results fairly well, the smallest possible number from your results should be several orders of magnitude than is theoretically possible! This is because of a clever process known as *gradual underflow*. \n",
    "\n",
    "To investigate, **start with a number near the smallest possible, say $10^{-300}$, and divide repeatedly by 300, printing out the result at each step.** What do you notice about the precision of each result? Can you explain what is going on?"
   ]
  },
  {
   "cell_type": "code",
   "execution_count": null,
   "metadata": {
    "collapsed": false
   },
   "outputs": [],
   "source": [
    "x=10**-300\n",
    "n=0\n",
    "\n",
    "while x!=0:\n",
    "    n=n+1\n",
    "    x=x/3\n",
    "    print(x)\n",
    "print(n)\n",
    "\n",
    "#precision increases for each result :)"
   ]
  },
  {
   "cell_type": "markdown",
   "metadata": {},
   "source": [
    "## Integer overflow\n",
    "\n",
    "As we noted in class, it's a little tricky to demonstrate integer overflow using the base Python library, because it cleverly increases the amount of memory allocated in order to be able to store arbitrarily large integers. The `array` type from the `numpy` library, however, doesn't do this. (This is on balance a good thing: it is designed to deal fast with very large amounts of data, and being able to specify exactly how much memory should be reserved for each array entry makes sense if there are millions of entries.)\n",
    "\n",
    "We will create an `array` with only one component, which we specify as an integer occupying sixteen bits of memory:"
   ]
  },
  {
   "cell_type": "code",
   "execution_count": null,
   "metadata": {
    "collapsed": false
   },
   "outputs": [],
   "source": [
    "from numpy import array\n",
    "my_integer = array([0], dtype='int16')\n",
    "print(my_integer)"
   ]
  },
  {
   "cell_type": "markdown",
   "metadata": {},
   "source": [
    "Remembering that one of those sixteen bits is reserved to indicate the sign, **what is the largest number that can be represented in this array?**"
   ]
  },
  {
   "cell_type": "code",
   "execution_count": null,
   "metadata": {
    "collapsed": false
   },
   "outputs": [],
   "source": [
    "32767 #(2**15-1)#"
   ]
  },
  {
   "cell_type": "markdown",
   "metadata": {},
   "source": [
    "**Check your answer by setting `my_integer[0]` to this number, then adding one.** Is the result what you expect?"
   ]
  },
  {
   "cell_type": "code",
   "execution_count": null,
   "metadata": {
    "collapsed": false
   },
   "outputs": [],
   "source": [
    "my_integer[0] = 32767\n",
    "x=my_integer+1\n",
    "print(x)"
   ]
  },
  {
   "cell_type": "markdown",
   "metadata": {},
   "source": [
    "▶ **CHECKPOINT 1**"
   ]
  },
  {
   "cell_type": "markdown",
   "metadata": {},
   "source": [
    "## Subtractive cancellation\n",
    "\n",
    "The well-known *quadratic formula* says that the equation $ax^2 + bx + c = 0$ has solutions\n",
    "\n",
    "$$ x_{1, 2} = \\frac{-b \\pm \\sqrt{b^2 - 4ac}}{2a}.$$ \n",
    "\n",
    "However, multiplying numerator and denominator by $-b \\mp \\sqrt{b^2 - 4ac}$, we find that these can alternatively be expressed as\n",
    "\n",
    "$$ x'_{1,2} = \\frac{-2c}{b\\pm\\sqrt{b^2 - 4ac}}.$$\n",
    "\n",
    "**Write a program to calculate all four answers for given $a$, $b$, $c$. Your program should calculate the fractional differences $(x_1 - x_1')/x_1$ and $(x_2 - x_2')/x_2$.** \n",
    "\n",
    "(Remember that you can get a square root function from the `numpy` module: `from numpy import sqrt`.)"
   ]
  },
  {
   "cell_type": "code",
   "execution_count": null,
   "metadata": {
    "collapsed": false
   },
   "outputs": [],
   "source": [
    "def subtractive_cancellation(a,b,c):\n",
    "    x1=(-b+(b**2-4*a*c)**0.5)/(2*a)\n",
    "    x2=(-b-(b**2-4*a*c)**0.5)/(2*a)\n",
    "    y1=(-2*c)/(b+(b**2-4*a*c)**0.5)\n",
    "    y2=(-2*c)/(b-(b**2-4*a*c)**0.5)\n",
    "    fractional_differences= (x1-y1)/(x1),(x2-y2)/(x2)\n",
    "    return (fractional_differences)\n",
    "\n",
    "fractional_differences=subtractive_cancellation(1,20,3)\n",
    "print(fractional_differences)\n"
   ]
  },
  {
   "cell_type": "markdown",
   "metadata": {},
   "source": [
    "We will test your program on the equation with $a = b = 1$, $c = 10^{-n}$, $n = 1, 2, 3, \\dots$, or in other words\n",
    "\n",
    "$$ x^2 + x = -10^{-n}.$$\n",
    "\n",
    "In the limit where the right-hand side tends to zero, of course the solutions are $x_1 = 0$ and $x_2 = -1$. For small but non-zero $c$, we can make a good approximation by noting that, since $x_1$ will be very small, $x_1^2$ will be negligible; thus $x_1\\approx -10^{-n}$. Similarly, $x_2\\approx 1 - 10^{-n}$.\n",
    "\n",
    "**Test your program for $a = b = 1$, $c = 10^{-n}$, $n = 1, 2, 3, \\dots$.** Can you explain your results? Where the two formulae differ, which is the most accurate and why?"
   ]
  },
  {
   "cell_type": "code",
   "execution_count": null,
   "metadata": {
    "collapsed": false
   },
   "outputs": [],
   "source": [
    "\n",
    "for i in range(1,20):\n",
    "    a=1\n",
    "    b=1\n",
    "    c=(10**(-i))\n",
    "    print(subtractive_cancellation(a,b,c))"
   ]
  },
  {
   "cell_type": "markdown",
   "metadata": {},
   "source": [
    "**What would you expect to happen for the case $a = 1$, $b = -1$, $c = 10^{-n}$, $n = 1, 2, 3, \\dots$?** Make a prediction then use your program to test it."
   ]
  },
  {
   "cell_type": "code",
   "execution_count": null,
   "metadata": {
    "collapsed": false
   },
   "outputs": [],
   "source": [
    "for i in range(1,20):\n",
    "    a=1\n",
    "    b=-1\n",
    "    c=(10**(-i))\n",
    "    print(subtractive_cancellation(a,b,c))"
   ]
  },
  {
   "cell_type": "markdown",
   "metadata": {},
   "source": [
    "▶ **CHECKPOINT 2**"
   ]
  },
  {
   "cell_type": "markdown",
   "metadata": {},
   "source": [
    "## Series summation\n",
    "\n",
    "We will write our own (Python) function to calculate the (mathematical) sine function. One obvious way is to evaluate the Taylor series:\n",
    "\n",
    "$$\n",
    "\\sin x = x - \\frac{x^3}{3!} + \\frac{x^5}{5!} - \\frac{x^7}{7!} + \\dots = \\sum_{n=1}^\\infty\\frac{(-1)^{n-1}x^{2n-1}}{(2n-1)!}\n",
    "$$\n",
    "\n",
    "A small trick will come in useful here. As $n$ gets larger (and we will certainly need to add lots of terms to get an accurate result!) it will take longer and longer to calculate both $x^{2n-1}$ and $(2n-1)!$. However, both of these are easy to calculate *given the previous term*. So the smart way to evaluate this series is to keep track of the previous term added, and then use a recursive relationship\n",
    "\n",
    "$$\n",
    "t_{n} = t_{n-1} \\times \\frac{-x^2}{(2n - 1)(2n - 2)}.\n",
    "$$\n",
    "\n",
    "**Check that you understand** how this works, then **write a function `sine_sum(x)`** to calculate $\\sin(x)$ by this method. You will need to make a sensible choice for when to stop adding terms: discuss this with your demonstrator if you're not sure."
   ]
  },
  {
   "cell_type": "code",
   "execution_count": null,
   "metadata": {
    "collapsed": false
   },
   "outputs": [],
   "source": [
    "from math import pi\n",
    "def sine_sum(x):\n",
    "    n=1\n",
    "    angle=x\n",
    "    t=x\n",
    "    for i in range(0,20):\n",
    "        n+=1\n",
    "        t=((-t)*(x**2))/((2*n-1)*(2*n-2))\n",
    "        #t=t*((-x**2)/(((2*i)-1)((2*i)-2)))\n",
    "        angle+=t\n",
    "    return(angle)\n",
    "print(sine_sum(pi))"
   ]
  },
  {
   "cell_type": "markdown",
   "metadata": {},
   "source": [
    "With care, it is not difficult to write functions that can cope with `array` arguments. However, there is a \"cheat\" way to do this automatically, using the `vectorize` function from `numpy`:"
   ]
  },
  {
   "cell_type": "code",
   "execution_count": null,
   "metadata": {
    "collapsed": false
   },
   "outputs": [],
   "source": [
    "from numpy import vectorize\n",
    "sine_sum = vectorize(sine_sum)"
   ]
  },
  {
   "cell_type": "markdown",
   "metadata": {},
   "source": [
    "Now you can call `sine_sum()` on an array in the same way as you can on the library `sin()` function. This lets us plot this function very easily. \n",
    "\n",
    "(Advanced Python note: if you know in advance you are going to do this, you can use the *decorator* syntax:\n",
    "\n",
    "    from numpy import vectorize\n",
    "    \n",
    "    @vectorize\n",
    "    def sine_sum(x):\n",
    "        #... function definition goes here\n",
    "\n",
    "This does the same thing as calling `sine_sum = vectorize(sine_sum)` after the event as we’ve done here.)\n",
    "\n",
    "**Complete the following code** to plot both your function and the library one. "
   ]
  },
  {
   "cell_type": "code",
   "execution_count": null,
   "metadata": {
    "collapsed": false
   },
   "outputs": [],
   "source": [
    "from numpy import vectorize\n",
    "%matplotlib notebook\n",
    "from pylab import plot, grid, xlim, ylim, sin, linspace\n",
    "\n",
    "\n",
    "\n",
    "x = linspace(0,100) # choose some appropriate values here\n",
    "y_series = vectorize(sine_sum(x))\n",
    "y_library = sin(x)\n",
    "ylim(-3,3) \n",
    "\n",
    "\n",
    "\n",
    "plot(x, y_series, x, y_library) # The plot command can take as many x, y pairs as you like.\n",
    "                                # Note that we do need to repeat x here since this array represents\n",
    "                               # the x values of two different lines on the plot.\n",
    "        \n",
    "# you might like to set the x and y limits using the xlim and ylim functions, or to apply a grid.\n",
    "# e.g., ylim(-2, 2) will set the y range to run from -2 to 2.\n"
   ]
  },
  {
   "cell_type": "markdown",
   "metadata": {},
   "source": [
    "When does your function start to diverge noticeably from the library one? Can you explain why it eventually stops behaving as well as the library function? Can you think of a way to fix this problem? (*Hint*: consider the periodicity of the $\\sin$ function.)"
   ]
  },
  {
   "cell_type": "code",
   "execution_count": null,
   "metadata": {
    "collapsed": true
   },
   "outputs": [],
   "source": []
  },
  {
   "cell_type": "markdown",
   "metadata": {},
   "source": [
    "▶ **CHECKPOINT 3**"
   ]
  }
 ],
 "metadata": {
  "kernelspec": {
   "display_name": "Python 3",
   "language": "python",
   "name": "python3"
  }
 },
 "nbformat": 4,
 "nbformat_minor": 2
}
